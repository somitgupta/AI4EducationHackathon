{
 "cells": [
  {
   "cell_type": "markdown",
   "id": "882819a8",
   "metadata": {},
   "source": [
    "# Getting Started with GPT\n",
    "\n",
    "## 1. Get an OpenAI account\n",
    "You first need to create an account on the OpenAI website. Visit https://platform.openai.com/signup to sign up if you haven't already.\n",
    "\n",
    "\n",
    "### TODO: Insert instructions on how to get access to GPT4. \n",
    "\n",
    "## 2. Experiment in OpenAI Playground\n",
    "Now, you can start experimenting with different questions/queries to GPT in the playground https://platform.openai.com/playground?mode=chat&model=gpt-4. \n"
   ]
  },
  {
   "cell_type": "markdown",
   "id": "c87d5698",
   "metadata": {},
   "source": [
    "## 3. Getting started with GPT Jupyter Notebook \n",
    "After following the tutorial in this notebook, you will be able to get started with GPT and run basic python scripts. "
   ]
  },
  {
   "cell_type": "markdown",
   "id": "3ca29ca7",
   "metadata": {},
   "source": [
    "### 3.a Install Jupyter Notebook on your device\n",
    "Sure, let's walk through the setup of Jupyter Notebook as well as its dependencies.\n",
    "\n",
    "Jupyter Notebook largely depends on Python and pip (Python's default package manager). \n",
    "\n",
    "#### Step 0. Open Command Prompt/Terminal:\n",
    "- If you're using Windows, type `cmd` in the search bar and press Enter.\n",
    "- On a Mac, open Terminal by going to Applications -> Utilities -> Terminal.\n",
    "- If you're on Linux, you can open the Terminal from System Tools.\n",
    "\n",
    "#### Step 1: Checking if Python is installed:\n",
    "\n",
    "Type this command in your Command Prompt (Windows) or Terminal (Mac/Linux) to check if Python is already installed on your system:\n",
    "```bash\n",
    "python --version\n",
    "```\n",
    "\n",
    "If Python is correctly installed, you should see a response indicating the Python version. \n",
    "\n",
    "If Python is not installed, you will need to install it:\n",
    "\n",
    "- For Windows/Mac, download it from the official website: https://www.python.org/downloads/\n",
    "- For Linux, you can install it via terminal with the following command:\n",
    "```bash\n",
    "sudo apt-get install python3\n",
    "```\n",
    "Please note that with the installation of Python, pip is also installed by default.\n",
    "\n",
    "#### Step 2: Checking if pip is installed:\n",
    "\n",
    "Type this command to check if pip is installed:\n",
    "```bash\n",
    "pip --version\n",
    "```\n",
    "If pip is correctly installed, you will see a response showing the pip version.\n",
    "\n",
    "If pip is not installed, you can type the following command in Windows:\n",
    "```bash\n",
    "python get-pip.py\n",
    "```\n",
    "For Mac and Linux, use the following command:\n",
    "```bash\n",
    "sudo easy_install pip\n",
    "```\n",
    "#### Step 3. Update pip:\n",
    "\n",
    "Always ensure to have the latest pip version. Use this command to upgrade pip:\n",
    "```bash\n",
    "pip install --upgrade pip\n",
    "```\n",
    "\n",
    "#### Step 4. Installing Jupyter Notebook and OpenAI:\n",
    "\n",
    "Now that you have confirmed the installation of Python and pip, you can install Jupyter Notebook:\n",
    "```bash\n",
    "pip install notebook openai\n",
    "```\n",
    "\n",
    "#### Step 5: Launch Jupyter Notebook:\n",
    "\n",
    "To initiate Jupyter Notebook, type the following command and press Enter:\n",
    "```bash\n",
    "jupyter notebook\n",
    "```\n",
    "Your default web browser should automatically open with the Jupyter Notebook interface.\n",
    "\n",
    "Checkpoint: Validate Jupyter Notebook is working:\n",
    "\n",
    "To check if Jupyter Notebook is installed correctly and working as expected, try creating a new Python notebook:\n",
    "\n",
    "1. Press the 'New' button on the right-hand side of the Jupyter Notebook interface and select Python 3 from the drop-down list.\n",
    "2. If a new notebook opens, then Jupyter Notebook was successfully installed.\n",
    "\n",
    "By following these steps, you should have Jupyter Notebook installed and ready to use on your device."
   ]
  },
  {
   "cell_type": "markdown",
   "id": "cf5e48dc",
   "metadata": {},
   "source": [
    "### 3.b. Calling GPT API "
   ]
  },
  {
   "cell_type": "markdown",
   "id": "611bc3ba",
   "metadata": {},
   "source": [
    "#### Step 1\n",
    "First, you need to find your OpenAI API key and paste it in the code below replacing `your-api-key.` \n",
    "\n",
    "Follow these steps:\n",
    "1. You first need to create an account on the OpenAI website. Visit https://platform.openai.com/signup to sign up if you haven't already.\n",
    "\n",
    "2. After signing up and logging into your account, navigate to the API section. You can find this by clicking on your username at the top right corner of the homepage and selecting 'API keys' from the dropdown menu.\n",
    "\n",
    "3. On the API keys page, you'll see your API keys if you've created them before. If not, you can easily create a new key by clicking the 'Create key' button.\n",
    "\n",
    "Remember: \n",
    "1. Your API keys are secret and hence should not be shared with anyone. They give programmatic access to your OpenAI account.\n",
    "2. If you believe your key has been compromised, you can regenerate a new one as well.\n",
    "3. It's also good practice to use environment variables to store sensitive information such as API keys, rather than hard coding them into your programs.\n",
    "\n",
    "Your API key will look something like this: `sk-abcdefgh1234567`\n",
    "\n",
    "Please note that use of the OpenAI API is subject to fees, and free usage is only available during a trial period. Please verify the costs associated with the OpenAI API before running too many tasks."
   ]
  },
  {
   "cell_type": "markdown",
   "id": "e74e2d4c",
   "metadata": {},
   "source": [
    "##### Step 2\n",
    "Run the following code below. Select the code block and hit ctrl+enter to run the block. "
   ]
  },
  {
   "cell_type": "code",
   "execution_count": 32,
   "id": "e5529014",
   "metadata": {},
   "outputs": [],
   "source": [
    "# 1. Import the required libraries\n",
    "import openai\n",
    "import os\n",
    "\n",
    "# 2. Authenticate with the OpenAI API\n",
    "openai.api_key = 'your-api-key' #replace 'your-api-key' with your actual API key\n",
    "# 3. Create a function to make an API call to GPT\n",
    "def ask_gpt(question, bio =\"You are helpful teacher's assistant\", max_response_length=300, temperature = 1.2):\n",
    "    completion = openai.ChatCompletion.create(\n",
    "        model=\"gpt-4\",\n",
    "        messages=[\n",
    "            {\"role\": \"system\", \"content\": bio},\n",
    "            {\"role\": \"user\", \"content\": question}],\n",
    "        max_tokens = max_response_length,\n",
    "        temperature = 1.2,\n",
    "        )\n",
    "    response_text = completion.choices[0].message.content\n",
    "    return response_text"
   ]
  },
  {
   "cell_type": "code",
   "execution_count": 37,
   "id": "8f89b99c",
   "metadata": {},
   "outputs": [
    {
     "name": "stdout",
     "output_type": "stream",
     "text": [
      "Exercise 1: (Beginner Level)\n",
      "The students should do simple, single digit additions.\n",
      "- Sum up numbers 2+3.\n",
      "- Add 5 to 4.\n",
      "- Find the total of 6 and 3. \n",
      "The teacher should check if the students are able to add single-digit numbers correctly.\n",
      "\n",
      "Exercise 2: (Intermediate Level)\n",
      "Students should do double digit additions. \n",
      "- Add 35 to 45.\n",
      "- Find the total of 52 and 67.\n",
      "- Achieve the sum of 91 and 29.\n",
      "The teacher should check if students accurately add double-digit numbers and if they carry over if needed. \n",
      "\n",
      "Exercise 3: (Advanced Level)\n",
      "Perform addition with multiples of 10 and 100, and addition with carrying.\n",
      "- Add 250 and 680.\n",
      "- Get the sum of 500 and 745.\n",
      "- Calculate total of 350, 550 and 700.\n",
      "The teacher should check if students know how to perform bigger additions with carry over, and verify if they sums that  multipart questions correctly.\n",
      "\n",
      "Exercise 4: (Expert Level)\n",
      "Here students should perform with bigger numbers concerning thousands and work with word problems.\n",
      "- Add 12,546 to 4,753.\n",
      "- Jack has saved $1850 and his sister gave him another $4250. How much money does Jack have now?\n",
      "- Jamie read 2500 pages from January to June, 1750 pages from July to December. How many total pages did she read in a year?\n",
      "The teacher should verify if the students are competent at adding large numbers and are able to translate words into equations to solve addition problems.\n"
     ]
    }
   ],
   "source": [
    "# 4. Use the function for different tasks\n",
    "\n",
    "# Task 1 addition excercises\n",
    "response_1 = ask_gpt(\n",
    "    bio = \"You are a teacher's assistant. \\\n",
    "    You are always respectful, accurate, concise, fluent, and grammatically correct. \\\n",
    "    When generating exercises you start from easy exercise to harder exercises. \\\n",
    "    For each exercise you also mention what should the teacher check.\",\n",
    "    question = \"Generate exercises for kids to learn addition\",\n",
    "    max_response_length = 800\n",
    ")\n",
    "print(response_1)\n"
   ]
  },
  {
   "cell_type": "code",
   "execution_count": 49,
   "id": "bac41997",
   "metadata": {},
   "outputs": [
    {
     "name": "stdout",
     "output_type": "stream",
     "text": [
      "गणित परीक्षा: जोड़ना\n",
      "\n",
      "निर्देश: निम्नलिखित प्रश्नों का उत्तर दें।\n",
      "\n",
      "\n",
      "1.  २+२= ___\n",
      "\n",
      "2.  ५+३= ___\n",
      "\n",
      "3.  ७+४= ___\n",
      "\n",
      "4.  ८+२= ___\n",
      "\n",
      "5.  १+०= ___\n",
      "\n",
      "\n",
      "\\***\\*प्लेटिंग हेतु समय: 10 मिनट\\****\n",
      "\n",
      "----------\n",
      "\n",
      "यदि किसी छात्र / छात्रा के उत्तरों में कोई त्रुटि या कमी पाई जाती है, शिक्षकों को उस विद्यार्थी के साथ व्यक्तिगत तौर पर कार्य करना चाहिए। शायद उसे जोड़ के नियमों को समझने या एक सही उत्तर अनुमानित करने की आवश्यकता हो सकती है। शिक्षकों को छात्र को अवधारणा को और भी अच्छी तरह समझाने में मदद करना बहुत महत्वपूर्ण हो सकता है। पर्याप्त अभ्यास, समझदारी और धैर्य कैसे यह सुविधा का उपयोग करने के लिए सही मार्ग हो सकता है।\n"
     ]
    }
   ],
   "source": [
    "# Task 2 create a test\n",
    "response_1 = ask_gpt(\n",
    "    bio = \"You are a teacher's assistant. \\\n",
    "    You are always respectful, accurate, concise, fluent, and grammatically correct. \\\n",
    "    When generating tests you aim to identify what level of learning a student has acheived. \\\n",
    "    You also suggest that based on a student's test results, what corrective action should the teacher take\",\n",
    "    question = \"Create a short test in Hindi for testing students on addition.\",\n",
    "    max_response_length = 1800\n",
    ")\n",
    "print(response_1)"
   ]
  },
  {
   "cell_type": "code",
   "execution_count": 45,
   "id": "10f6db32",
   "metadata": {},
   "outputs": [
    {
     "name": "stdout",
     "output_type": "stream",
     "text": [
      "Addition Test \n",
      "\n",
      "Instructions: Solve the following addition problems. Show your work. \n",
      "\n",
      "1. 12 + 18 = ____ \n",
      "\n",
      "2. 34 + 67 = _____\n",
      "\n",
      "3. 77 + 195 = _____\n",
      "\n",
      "4. 582 + 293 = _____\n",
      "\n",
      "5. 1025 + 4371  = _____\n",
      "\n",
      "Bonus question: \n",
      "\n",
      "Find the sum of these two numbers:\n",
      "\n",
      "6. 50078 + 29456 = _____\n",
      "\n",
      "Based on students' test results:\n",
      "- If a student performs well on this test, commend their hard work and encourage them to keep practising. Instruct them to try more complex arithmetic problems or begin working on mental arithmetic to maintain the learning momentum.\n",
      "\n",
      "- If a student is struggling, then additional review and practice might be beneficial. Teachers could provide additional worksheets, offer after-school tutoring, practice with flashcards, or use math games to make learning more interactive and engaging. Reinforce the fundamental concepts of addition repeatedly until the student is comfortable with them. Teachers can run through step-by-step processes to ensure that a lack of understanding is rectified.\n",
      "\n",
      "- If the problem is simple calculation errors symptomatic of issues with attention to detail, teachers can implement exercises that promote caution and mindfulness when navigating numerical problems.\n",
      "\n",
      "Remember that the results of only one test aren't the full measure of one's ability. Tests simply indicate where students are in their learning journey, enabling teachers to plan appropriate next steps. It's essential to constantly motivate pupils and create an engaging, positive learning environment for their holistic growth.\n"
     ]
    }
   ],
   "source": [
    "# Task 2 create a test\n",
    "response_1 = ask_gpt(\n",
    "    bio = \"You are a teacher's assistant. \\\n",
    "    You are always respectful, accurate, concise, fluent, and grammatically correct. \\\n",
    "    When generating tests you aim to identify what level of learning a student has acheived. \\\n",
    "    You also suggest that based on a student's test results, what corrective action should the teacher take\",\n",
    "    question = \"Create a short test for testing students on addition.\",\n",
    "    max_response_length = 800\n",
    ")\n",
    "print(response_1)"
   ]
  },
  {
   "cell_type": "code",
   "execution_count": 46,
   "id": "aa013bc2",
   "metadata": {},
   "outputs": [
    {
     "name": "stdout",
     "output_type": "stream",
     "text": [
      "योग परीक्षा\n",
      "\n",
      "निर्देश: निम्नलिखित योग समस्याओं को हल कीजिए। अपना कार्य दिखाएँ।\n",
      "\n",
      "1. 12 + 18 = ____\n",
      "\n",
      "2. 34 + 67 = _____\n",
      "\n",
      "3. 77 + 195 = _____\n",
      "\n",
      "4. 582 + 293 = _____\n",
      "\n",
      "5. 1025 + 4371  = _____\n",
      "\n",
      "बोनस प्रश्न:\n",
      "\n",
      "इन दो संख्याओं का योग निकालें:\n",
      "\n",
      "6. 50078 + 29456 = _____\n",
      "\n",
      "छात्रों के परीक्षा परिणामों पर आधारित:\n",
      "- यदि एक छात्र इस परीक्षा में अच्छा प्रदर्शन करता है, तो उनके कठिनाई की सराहना करें और उन्हें अभ्यास करते रहने के लिए प्रोत्साहित करें। सिखाएं कि वे और जटिल अंकगणित समस्याओं की कोशिश करें या मेंटल गणित पर काम शुरू करें ताकि सीखने का गति बना रहे।\n",
      "\n",
      "- यदि एक छात्र संघर्ष कर रहा है, तो अतिरिक्त समीक्षा और अभ्यास लाभदायक हो सकता है। शिक्षक अतिरिक्त वर्कशीट प्रदान कर सकते हैं, स्कूल के बाद ट्यूटरिंग प्रदान कर सकते हैं, फ्लैशकार्ड से अभ्यास कर सकते हैं, या गणित खेल का उपयोग कर सीखने को और अधिक संवादसूचक और आकर्षक बना सकते हैं। छात्र से योग की आधारभूत अवधारणाओं को बार-बार स्थापित करें, जब तक कि छात्र उनके साथ सहज महसूस ना करने लगे। शिक्षक गलतीयों को सुधारने के लिए चरण-दर-चरण प्रक्रियाओं का अनुसरण कर सकते हैं।\n",
      "\n",
      "- यदि समस्या योग की साधारण त्रुटियाँ हैं जो विशेषतया सटीकता पर ध्यान की समस्याओं का परिणाम हैं, तो शिक्षक संख्यात्मक समस्याओं को समझने में सतर्कता और सतर्कता बढ़ाने वाले अभ्यास का क्रियान्वयन कर सकते हैं।\n",
      "\n",
      "याद रखें कि केवल एक टेस्ट के परिणामों से किसी की सामर्थ्य का पूरा मापदंड नहीं हो सकता है। परीक्षण सीखने की यात्रा में छात्र कहाँ हैं, यह दर्शाने में सहयोगी होता है, जिससे शिक्षकों को उचित अगले चरणों की योजना बनाने में सहायता मिलती है। छात्रों को निरंतर प्रेरित करना और उनके समग्र विकास के लिए एक सकरात्मक, सक्रिय शिक्षा वातावरण बनाने की ज़रुरत होती है।\n"
     ]
    }
   ],
   "source": [
    "# chain the prompts, see if we get a better answer\n",
    "# response length for the translation is longer due to how Hindi text is encoded. \n",
    "response_2 = ask_gpt(\n",
    "    bio = \"You are an English to Hindi translator.\\\n",
    "    You translate each line of the given text accurately.\",\n",
    "    question = f\"{response_1}\",\n",
    "    max_response_length = 1800\n",
    ")\n",
    "print(response_2)"
   ]
  },
  {
   "cell_type": "markdown",
   "id": "40435b68",
   "metadata": {},
   "source": [
    "The `ask_gpt()` function can be used with a wide variety of prompts. These can be plain questions, translation requests, or any natural language prompt that GPT can understand and generate a response to.\n",
    "\n",
    "Remember, this is a simple example. You may need to adjust parameters like `max_tokens`, `temperature`, `max_responses` etc depending on your specific requirements. Always refer to the OpenAI's API documentation for a better understanding of these parameters."
   ]
  },
  {
   "cell_type": "markdown",
   "id": "c21a0489",
   "metadata": {},
   "source": [
    "# More resources\n",
    "1. OpenAI API reference: https://platform.openai.com/docs/api-reference\n",
    "1. Example Prompts: https://platform.openai.com/examples\n",
    "1. Open AI cookbook: https://github.com/openai/openai-cookbook\n",
    "1. Langchain: https://python.langchain.com/docs/get_started/introduction.html\n",
    "1. Investigation into the skills and limitations of GPT4: https://arxiv.org/abs/2303.12712\n",
    "1. Ideas on using GPT for Education: https://creativehecommunity.wordpress.com/2023/06/23/oa-book-101-creative-ideas-to-use-ai-in-education/\n",
    "1. Recent hackathon demos of interest: https://www.loom.com/share/219d3523fbe8458a993f5564dd945d2e"
   ]
  }
 ],
 "metadata": {
  "kernelspec": {
   "display_name": "Python 3",
   "language": "python",
   "name": "python3"
  },
  "language_info": {
   "codemirror_mode": {
    "name": "ipython",
    "version": 3
   },
   "file_extension": ".py",
   "mimetype": "text/x-python",
   "name": "python",
   "nbconvert_exporter": "python",
   "pygments_lexer": "ipython3",
   "version": "3.8.8"
  }
 },
 "nbformat": 4,
 "nbformat_minor": 5
}
